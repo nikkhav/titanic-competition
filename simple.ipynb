{
 "cells": [
  {
   "metadata": {},
   "cell_type": "markdown",
   "source": "# Kaggle Titanic - Machine Learning from Disaster\n",
   "id": "3145316cd992329e"
  },
  {
   "metadata": {},
   "cell_type": "markdown",
   "source": "## Libraries import and setup",
   "id": "acc31b7d213d4f25"
  },
  {
   "metadata": {
    "ExecuteTime": {
     "end_time": "2024-06-07T22:08:12.746137Z",
     "start_time": "2024-06-07T22:08:12.743981Z"
    }
   },
   "cell_type": "code",
   "source": [
    "import pandas as pd\n",
    "from sklearn.ensemble import RandomForestClassifier\n",
    "from sklearn.model_selection import train_test_split\n",
    "from sklearn.preprocessing import LabelEncoder\n",
    "from sklearn.metrics import mean_absolute_error"
   ],
   "id": "35916247b9a8e0b3",
   "outputs": [],
   "execution_count": 51
  },
  {
   "metadata": {},
   "cell_type": "markdown",
   "source": "## Import and separate data",
   "id": "3bfe2c8ba2ff6b93"
  },
  {
   "metadata": {
    "ExecuteTime": {
     "end_time": "2024-06-07T22:08:12.753392Z",
     "start_time": "2024-06-07T22:08:12.747277Z"
    }
   },
   "cell_type": "code",
   "source": [
    "train_data_path = \"data/train.csv\"\n",
    "train_data = pd.read_csv(train_data_path)\n",
    "\n",
    "train_data = train_data.rename(columns={\n",
    "    \"PassengerId\": \"passengerId\",\n",
    "    \"Survived\": \"survived\",\n",
    "    \"Pclass\": \"pClass\",\n",
    "    \"Name\": \"name\",\n",
    "    \"Sex\": \"sex\",\n",
    "    \"Age\": \"age\",\n",
    "    \"SibSp\": \"sibSp\",\n",
    "    \"Parch\": \"parch\",\n",
    "    \"Ticket\": \"ticket\",\n",
    "    \"Fare\": \"fare\",\n",
    "    \"Cabin\": \"cabin\",\n",
    "    \"Embarked\": \"embarked\"\n",
    "})\n",
    "y = train_data.survived\n",
    "\n",
    "label_encoder = LabelEncoder()\n",
    "train_data['sex'] = label_encoder.fit_transform(train_data['sex'])\n",
    "train_data['embarked'] = label_encoder.fit_transform(train_data['embarked'])\n",
    "\n",
    "\n",
    "features = ['pClass', 'sex', 'age', 'sibSp', 'parch', 'fare', 'embarked']\n",
    "\n",
    "X = train_data[features]\n",
    "\n",
    "train_X, val_X, train_y, val_y = train_test_split(X, y, random_state=0)"
   ],
   "id": "f67020fd9fba5773",
   "outputs": [],
   "execution_count": 52
  },
  {
   "metadata": {},
   "cell_type": "markdown",
   "source": "## Model training and setup. Making predictions",
   "id": "baa7378ad8220b1b"
  },
  {
   "metadata": {
    "ExecuteTime": {
     "end_time": "2024-06-07T22:08:12.964283Z",
     "start_time": "2024-06-07T22:08:12.756691Z"
    }
   },
   "cell_type": "code",
   "source": [
    "n_estimators_variants = [10, 50, 100, 150]\n",
    "\n",
    "best_n_estimator = n_estimators_variants[0]\n",
    "best_mae = float('inf')\n",
    "for n_estimator in n_estimators_variants:\n",
    "    model = RandomForestClassifier(n_estimators=n_estimator, random_state=0)\n",
    "    \n",
    "    model.fit(train_X, train_y)\n",
    "    \n",
    "    titanic_predictions = model.predict(val_X)\n",
    "    titanic_predictions_mae = mean_absolute_error(titanic_predictions, val_y)\n",
    "\n",
    "    print(f\"n_estimators: {n_estimator} | Mean MAE: {titanic_predictions_mae:.4f}\")\n",
    "\n",
    "    if titanic_predictions_mae < best_mae:\n",
    "        best_mae = titanic_predictions_mae\n",
    "        best_n_estimator = n_estimator\n",
    "        \n",
    "print(f\"Best n_estimator: {best_n_estimator}\")\n",
    "print(f\"Best mae: {best_mae}\")"
   ],
   "id": "b2c8a03366f679fb",
   "outputs": [
    {
     "name": "stdout",
     "output_type": "stream",
     "text": [
      "n_estimators: 10 | Mean MAE: 0.1973\n",
      "n_estimators: 50 | Mean MAE: 0.1570\n",
      "n_estimators: 100 | Mean MAE: 0.1614\n",
      "n_estimators: 150 | Mean MAE: 0.1659\n",
      "Best n_estimator: 50\n",
      "Best mae: 0.15695067264573992\n"
     ]
    }
   ],
   "execution_count": 53
  },
  {
   "metadata": {},
   "cell_type": "markdown",
   "source": "## Final model",
   "id": "a78bacf2a5f734bb"
  },
  {
   "metadata": {
    "ExecuteTime": {
     "end_time": "2024-06-07T22:08:13.004159Z",
     "start_time": "2024-06-07T22:08:12.965186Z"
    }
   },
   "cell_type": "code",
   "source": [
    "final_model = RandomForestClassifier(n_estimators=best_n_estimator, random_state=0)\n",
    "final_model.fit(train_X, train_y)\n",
    "\n",
    "\n",
    "\n",
    "test_data_path = \"data/test.csv\"\n",
    "test_data = pd.read_csv(test_data_path)\n",
    "\n",
    "test_data = test_data.rename(columns={\n",
    "    \"PassengerId\": \"passengerId\",\n",
    "    \"Survived\": \"survived\",\n",
    "    \"Pclass\": \"pClass\",\n",
    "    \"Name\": \"name\",\n",
    "    \"Sex\": \"sex\",\n",
    "    \"Age\": \"age\",\n",
    "    \"SibSp\": \"sibSp\",\n",
    "    \"Parch\": \"parch\",\n",
    "    \"Ticket\": \"ticket\",\n",
    "    \"Fare\": \"fare\",\n",
    "    \"Cabin\": \"cabin\",\n",
    "    \"Embarked\": \"embarked\"\n",
    "})\n",
    "\n",
    "test_data['sex'] = label_encoder.fit_transform(test_data['sex'])\n",
    "test_data['embarked'] = label_encoder.fit_transform(test_data['embarked'])\n",
    "\n",
    "test_X = test_data[features]\n",
    "\n",
    "final_titanic_predictions = final_model.predict(test_X)"
   ],
   "id": "3b2ee28615ec0a5d",
   "outputs": [
    {
     "name": "stdout",
     "output_type": "stream",
     "text": [
      "418\n",
      "418\n"
     ]
    }
   ],
   "execution_count": 54
  },
  {
   "metadata": {},
   "cell_type": "markdown",
   "source": "## Generate a submission",
   "id": "9a6b761e0de46e1b"
  },
  {
   "metadata": {
    "ExecuteTime": {
     "end_time": "2024-06-07T22:08:13.007998Z",
     "start_time": "2024-06-07T22:08:13.004798Z"
    }
   },
   "cell_type": "code",
   "source": [
    "output = pd.DataFrame({'PassengerId': test_data.passengerId,\n",
    "                       'Survived': final_titanic_predictions})\n",
    "output.to_csv('submission.csv', index=False)"
   ],
   "id": "ffb5b322c4862eb5",
   "outputs": [],
   "execution_count": 55
  }
 ],
 "metadata": {
  "kernelspec": {
   "display_name": "Python 3",
   "language": "python",
   "name": "python3"
  },
  "language_info": {
   "codemirror_mode": {
    "name": "ipython",
    "version": 2
   },
   "file_extension": ".py",
   "mimetype": "text/x-python",
   "name": "python",
   "nbconvert_exporter": "python",
   "pygments_lexer": "ipython2",
   "version": "2.7.6"
  }
 },
 "nbformat": 4,
 "nbformat_minor": 5
}

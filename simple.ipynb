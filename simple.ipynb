{
 "cells": [
  {
   "metadata": {},
   "cell_type": "markdown",
   "source": "# Kaggle Titanic - Machine Learning from Disaster\n",
   "id": "3145316cd992329e"
  },
  {
   "metadata": {},
   "cell_type": "markdown",
   "source": "## Libraries import and setup",
   "id": "acc31b7d213d4f25"
  },
  {
   "metadata": {
    "ExecuteTime": {
     "end_time": "2024-06-07T22:59:48.293877Z",
     "start_time": "2024-06-07T22:59:48.291478Z"
    }
   },
   "cell_type": "code",
   "source": [
    "import pandas as pd\n",
    "from sklearn.ensemble import RandomForestClassifier\n",
    "from sklearn.model_selection import train_test_split, GridSearchCV\n",
    "from sklearn.preprocessing import OneHotEncoder\n",
    "from sklearn.metrics import mean_absolute_error\n",
    "from sklearn.pipeline import Pipeline\n",
    "from sklearn.impute import SimpleImputer\n",
    "from sklearn.compose import ColumnTransformer"
   ],
   "id": "35916247b9a8e0b3",
   "outputs": [],
   "execution_count": 27
  },
  {
   "metadata": {},
   "cell_type": "markdown",
   "source": "## Import and separate data",
   "id": "3bfe2c8ba2ff6b93"
  },
  {
   "metadata": {
    "ExecuteTime": {
     "end_time": "2024-06-07T22:59:48.307875Z",
     "start_time": "2024-06-07T22:59:48.294899Z"
    }
   },
   "cell_type": "code",
   "source": [
    "train_data_path = \"data/train.csv\"\n",
    "train_data = pd.read_csv(train_data_path)\n",
    "\n",
    "train_data = train_data.rename(columns={\n",
    "    \"PassengerId\": \"passengerId\",\n",
    "    \"Survived\": \"survived\",\n",
    "    \"Pclass\": \"pClass\",\n",
    "    \"Name\": \"name\",\n",
    "    \"Sex\": \"sex\",\n",
    "    \"Age\": \"age\",\n",
    "    \"SibSp\": \"sibSp\",\n",
    "    \"Parch\": \"parch\",\n",
    "    \"Ticket\": \"ticket\",\n",
    "    \"Fare\": \"fare\",\n",
    "    \"Cabin\": \"cabin\",\n",
    "    \"Embarked\": \"embarked\"\n",
    "})\n",
    "y = train_data.survived\n",
    "\n",
    "features = ['pClass', 'sex', 'age', 'sibSp', 'parch', 'fare', 'embarked']\n",
    "X = train_data[features]\n",
    "\n",
    "numeric_features = ['age', 'sibSp', 'parch', 'fare']\n",
    "numeric_transformer = Pipeline(steps=[\n",
    "    ('imputer', SimpleImputer(strategy='mean'))\n",
    "])\n",
    "\n",
    "categorical_features = ['pClass', 'sex', 'embarked']\n",
    "categorical_transformer = Pipeline(steps=[\n",
    "    ('imputer', SimpleImputer(strategy='most_frequent')),\n",
    "    ('onehot', OneHotEncoder(handle_unknown='ignore'))\n",
    "])\n",
    "\n",
    "preprocessor = ColumnTransformer(\n",
    "    transformers=[\n",
    "        ('num', numeric_transformer, numeric_features),\n",
    "        ('cat', categorical_transformer, categorical_features)\n",
    "    ])\n",
    "\n",
    "X = preprocessor.fit_transform(X)\n",
    "\n",
    "train_X, val_X, train_y, val_y = train_test_split(X, y, random_state=0, test_size=0.2)"
   ],
   "id": "f67020fd9fba5773",
   "outputs": [],
   "execution_count": 28
  },
  {
   "metadata": {},
   "cell_type": "markdown",
   "source": "## Model training and setup. Making predictions",
   "id": "baa7378ad8220b1b"
  },
  {
   "metadata": {
    "ExecuteTime": {
     "end_time": "2024-06-07T22:59:50.424134Z",
     "start_time": "2024-06-07T22:59:48.308990Z"
    }
   },
   "cell_type": "code",
   "source": [
    "param_grid = {\n",
    "    'n_estimators': [10, 50, 100, 150],\n",
    "    'max_features': ['sqrt', 'log2'],\n",
    "    'max_depth': [4, 5, 6, 7, 8],\n",
    "    'criterion': ['gini', 'entropy']\n",
    "}\n",
    "grid_search = GridSearchCV(estimator=RandomForestClassifier(random_state=0), param_grid=param_grid, cv=5, scoring='neg_mean_absolute_error', n_jobs=-1)\n",
    "grid_search.fit(train_X, train_y)\n",
    "\n",
    "best_model = grid_search.best_estimator_\n",
    "\n",
    "titanic_predictions = best_model.predict(val_X)\n",
    "titanic_predictions_mae = mean_absolute_error(val_y, titanic_predictions)\n",
    "\n",
    "print(f\"Best Model Parameters: {grid_search.best_params_}\")\n",
    "print(f\"Validation MAE: {titanic_predictions_mae:.4f}\")"
   ],
   "id": "b2c8a03366f679fb",
   "outputs": [
    {
     "name": "stdout",
     "output_type": "stream",
     "text": [
      "Best Model Parameters: {'criterion': 'entropy', 'max_depth': 6, 'max_features': 'sqrt', 'n_estimators': 150}\n",
      "Validation MAE: 0.1732\n"
     ]
    }
   ],
   "execution_count": 29
  },
  {
   "metadata": {},
   "cell_type": "markdown",
   "source": "## Final model",
   "id": "a78bacf2a5f734bb"
  },
  {
   "metadata": {
    "ExecuteTime": {
     "end_time": "2024-06-07T22:59:50.434107Z",
     "start_time": "2024-06-07T22:59:50.424727Z"
    }
   },
   "cell_type": "code",
   "source": [
    "test_data_path = \"data/test.csv\"\n",
    "test_data = pd.read_csv(test_data_path)\n",
    "\n",
    "test_data = test_data.rename(columns={\n",
    "    \"PassengerId\": \"passengerId\",\n",
    "    \"Survived\": \"survived\",\n",
    "    \"Pclass\": \"pClass\",\n",
    "    \"Name\": \"name\",\n",
    "    \"Sex\": \"sex\",\n",
    "    \"Age\": \"age\",\n",
    "    \"SibSp\": \"sibSp\",\n",
    "    \"Parch\": \"parch\",\n",
    "    \"Ticket\": \"ticket\",\n",
    "    \"Fare\": \"fare\",\n",
    "    \"Cabin\": \"cabin\",\n",
    "    \"Embarked\": \"embarked\"\n",
    "})\n",
    "\n",
    "\n",
    "X = test_data[features]\n",
    "\n",
    "test_X = preprocessor.transform(X)\n",
    "\n",
    "final_titanic_predictions = best_model.predict(test_X)"
   ],
   "id": "3b2ee28615ec0a5d",
   "outputs": [],
   "execution_count": 30
  },
  {
   "metadata": {},
   "cell_type": "markdown",
   "source": "## Generate a submission",
   "id": "9a6b761e0de46e1b"
  },
  {
   "metadata": {
    "ExecuteTime": {
     "end_time": "2024-06-07T22:59:50.437550Z",
     "start_time": "2024-06-07T22:59:50.435094Z"
    }
   },
   "cell_type": "code",
   "source": [
    "output = pd.DataFrame({'PassengerId': test_data.passengerId,\n",
    "                       'Survived': final_titanic_predictions})\n",
    "output.to_csv('submission.csv', index=False)"
   ],
   "id": "ffb5b322c4862eb5",
   "outputs": [],
   "execution_count": 31
  }
 ],
 "metadata": {
  "kernelspec": {
   "display_name": "Python 3",
   "language": "python",
   "name": "python3"
  },
  "language_info": {
   "codemirror_mode": {
    "name": "ipython",
    "version": 2
   },
   "file_extension": ".py",
   "mimetype": "text/x-python",
   "name": "python",
   "nbconvert_exporter": "python",
   "pygments_lexer": "ipython2",
   "version": "2.7.6"
  }
 },
 "nbformat": 4,
 "nbformat_minor": 5
}
